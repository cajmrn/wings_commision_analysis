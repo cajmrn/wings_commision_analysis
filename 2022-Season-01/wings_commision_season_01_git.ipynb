{
 "cells": [
  {
   "cell_type": "code",
   "execution_count": 87,
   "id": "3eacbbbe-008b-4205-8d9c-5c3fc37d5f99",
   "metadata": {},
   "outputs": [],
   "source": [
    "import pandas as pd\n",
    "import matplotlib.pyplot as plt\n",
    "import seaborn as sns\n",
    "import plotly.express as px\n",
    "import requests\n",
    "import numpy as np"
   ]
  },
  {
   "cell_type": "raw",
   "id": "85833824-72f6-4256-a4a5-d7c10d4fc12c",
   "metadata": {},
   "source": [
    "!pip install plotly"
   ]
  },
  {
   "cell_type": "code",
   "execution_count": 88,
   "id": "52ef8b00-38f5-4ed8-babc-0f4864178dac",
   "metadata": {},
   "outputs": [],
   "source": []
  },
  {
   "cell_type": "code",
   "execution_count": 89,
   "id": "f9f947a1-b75f-4439-a2eb-2aef546a6089",
   "metadata": {
    "tags": []
   },
   "outputs": [],
   "source": [
    "def get_data(root,ep):\n",
    "    data={}\n",
    "    for i in ep:\n",
    "        data[i] = pd.json_normalize(requests.get(root + i, headers=headers).json())\n",
    "        \n",
    "    return data"
   ]
  },
  {
   "cell_type": "code",
   "execution_count": 90,
   "id": "16a77839-276c-4a23-be63-2b326e3855b0",
   "metadata": {},
   "outputs": [],
   "source": [
    "d = get_data(root_url, ep)"
   ]
  },
  {
   "cell_type": "code",
   "execution_count": 91,
   "id": "38222fce-b373-4a66-897e-d7ad18de0956",
   "metadata": {},
   "outputs": [],
   "source": [
    "mrg = d['events'].merge(d['reviews'], left_on='id', right_on='event_id', how='left').merge(d['tasters'], left_on='author_id', right_on='id', how='left')"
   ]
  },
  {
   "cell_type": "code",
   "execution_count": 92,
   "id": "b78e98cc-6711-4236-bce1-f4b2748eb818",
   "metadata": {},
   "outputs": [],
   "source": [
    "mrg.drop(columns=['id_y','notifications_x','notifications_y','images','comment'],inplace=True)"
   ]
  },
  {
   "cell_type": "code",
   "execution_count": 93,
   "id": "5a8234b9-d14a-40bf-93be-b6220722b697",
   "metadata": {},
   "outputs": [
    {
     "name": "stdout",
     "output_type": "stream",
     "text": [
      "<class 'pandas.core.frame.DataFrame'>\n",
      "Int64Index: 47 entries, 0 to 46\n",
      "Data columns (total 37 columns):\n",
      " #   Column                  Non-Null Count  Dtype  \n",
      "---  ------                  --------------  -----  \n",
      " 0   id_x                    47 non-null     int64  \n",
      " 1   place_id                47 non-null     object \n",
      " 2   title                   47 non-null     object \n",
      " 3   date                    47 non-null     object \n",
      " 4   type                    46 non-null     object \n",
      " 5   portion                 46 non-null     float64\n",
      " 6   price                   43 non-null     float64\n",
      " 7   event_rating            46 non-null     float64\n",
      " 8   event_id                46 non-null     float64\n",
      " 9   author_id               46 non-null     float64\n",
      " 10  review_rating           46 non-null     float64\n",
      " 11  place.parking           46 non-null     float64\n",
      " 12  place.ambiance          46 non-null     float64\n",
      " 13  place.service           45 non-null     float64\n",
      " 14  place.wait_time         46 non-null     float64\n",
      " 15  place.cleanliness       45 non-null     float64\n",
      " 16  wings.moistness         45 non-null     float64\n",
      " 17  wings.sauce             46 non-null     float64\n",
      " 18  wings.taste             46 non-null     float64\n",
      " 19  wings.satiety           43 non-null     float64\n",
      " 20  sides.appetizer.rating  30 non-null     float64\n",
      " 21  sides.appetizer.name    34 non-null     object \n",
      " 22  sides.side.rating       34 non-null     float64\n",
      " 23  sides.side.name         37 non-null     object \n",
      " 24  sides.drink.rating      35 non-null     float64\n",
      " 25  sides.drink.name        39 non-null     object \n",
      " 26  sides.appetizer.price   6 non-null      float64\n",
      " 27  sides.drink.price       10 non-null     float64\n",
      " 28  sides.side.price        7 non-null      float64\n",
      " 29  id                      46 non-null     float64\n",
      " 30  notifyMessages          24 non-null     object \n",
      " 31  notifyEvents            24 non-null     object \n",
      " 32  notifyReviews           24 non-null     object \n",
      " 33  name                    46 non-null     object \n",
      " 34  password                46 non-null     object \n",
      " 35  photo                   46 non-null     object \n",
      " 36  email                   46 non-null     object \n",
      "dtypes: float64(22), int64(1), object(14)\n",
      "memory usage: 14.0+ KB\n"
     ]
    }
   ],
   "source": [
    "mrg.info()"
   ]
  },
  {
   "cell_type": "code",
   "execution_count": 94,
   "id": "b9b5dca5-6426-48b0-8b71-81e9dc92101b",
   "metadata": {},
   "outputs": [],
   "source": [
    "mrg.drop(mrg[mrg.event_id.isnull()].index, inplace=True)"
   ]
  },
  {
   "cell_type": "code",
   "execution_count": 95,
   "id": "aa338dba-d298-4481-9478-0c084be624ca",
   "metadata": {},
   "outputs": [],
   "source": [
    "mrg[['event_id','author_id']] = mrg[['event_id','author_id']].astype(np.int64)\n",
    "mrg['date'] = pd.to_datetime(mrg['date']).dt.normalize().copy()"
   ]
  },
  {
   "cell_type": "code",
   "execution_count": 96,
   "id": "cab2f599-6db3-4eb8-8f71-78645b7b150e",
   "metadata": {},
   "outputs": [
    {
     "data": {
      "text/html": [
       "<div>\n",
       "<style scoped>\n",
       "    .dataframe tbody tr th:only-of-type {\n",
       "        vertical-align: middle;\n",
       "    }\n",
       "\n",
       "    .dataframe tbody tr th {\n",
       "        vertical-align: top;\n",
       "    }\n",
       "\n",
       "    .dataframe thead th {\n",
       "        text-align: right;\n",
       "    }\n",
       "</style>\n",
       "<table border=\"1\" class=\"dataframe\">\n",
       "  <thead>\n",
       "    <tr style=\"text-align: right;\">\n",
       "      <th></th>\n",
       "      <th>id_x</th>\n",
       "      <th>place_id</th>\n",
       "      <th>title</th>\n",
       "      <th>date</th>\n",
       "      <th>type</th>\n",
       "      <th>portion</th>\n",
       "      <th>price</th>\n",
       "      <th>event_rating</th>\n",
       "      <th>event_id</th>\n",
       "      <th>author_id</th>\n",
       "      <th>...</th>\n",
       "      <th>sides.drink.price</th>\n",
       "      <th>sides.side.price</th>\n",
       "      <th>id</th>\n",
       "      <th>notifyMessages</th>\n",
       "      <th>notifyEvents</th>\n",
       "      <th>notifyReviews</th>\n",
       "      <th>name</th>\n",
       "      <th>password</th>\n",
       "      <th>photo</th>\n",
       "      <th>email</th>\n",
       "    </tr>\n",
       "  </thead>\n",
       "  <tbody>\n",
       "    <tr>\n",
       "      <th>1</th>\n",
       "      <td>2879980822564788</td>\n",
       "      <td>2022027350403341249</td>\n",
       "      <td>Milestones</td>\n",
       "      <td>2022-08-05</td>\n",
       "      <td>Bar &amp; Grill</td>\n",
       "      <td>9.0</td>\n",
       "      <td>NaN</td>\n",
       "      <td>4.574495</td>\n",
       "      <td>2879980822564788</td>\n",
       "      <td>1132445668569187</td>\n",
       "      <td>...</td>\n",
       "      <td>NaN</td>\n",
       "      <td>NaN</td>\n",
       "      <td>1.132446e+15</td>\n",
       "      <td>True</td>\n",
       "      <td>True</td>\n",
       "      <td>True</td>\n",
       "      <td>Mike</td>\n",
       "      <td>1d91fd39fcf425b9</td>\n",
       "      <td>http://gerdov.com/mike-db/api/wingsDB/mike-pho...</td>\n",
       "      <td>gerdov@gmail.com</td>\n",
       "    </tr>\n",
       "    <tr>\n",
       "      <th>2</th>\n",
       "      <td>2879980822564788</td>\n",
       "      <td>2022027350403341249</td>\n",
       "      <td>Milestones</td>\n",
       "      <td>2022-08-05</td>\n",
       "      <td>Bar &amp; Grill</td>\n",
       "      <td>9.0</td>\n",
       "      <td>NaN</td>\n",
       "      <td>4.574495</td>\n",
       "      <td>2879980822564788</td>\n",
       "      <td>1132463937922427</td>\n",
       "      <td>...</td>\n",
       "      <td>NaN</td>\n",
       "      <td>NaN</td>\n",
       "      <td>1.132464e+15</td>\n",
       "      <td>NaN</td>\n",
       "      <td>NaN</td>\n",
       "      <td>NaN</td>\n",
       "      <td>Stephan</td>\n",
       "      <td>965f42f112d82297</td>\n",
       "      <td>http://gerdov.com/mike-db/api/wingsDB/stephan-...</td>\n",
       "      <td>stephan.reebs@umoncton.ca</td>\n",
       "    </tr>\n",
       "    <tr>\n",
       "      <th>3</th>\n",
       "      <td>2879980822564788</td>\n",
       "      <td>2022027350403341249</td>\n",
       "      <td>Milestones</td>\n",
       "      <td>2022-08-05</td>\n",
       "      <td>Bar &amp; Grill</td>\n",
       "      <td>9.0</td>\n",
       "      <td>NaN</td>\n",
       "      <td>4.574495</td>\n",
       "      <td>2879980822564788</td>\n",
       "      <td>1132391362856516</td>\n",
       "      <td>...</td>\n",
       "      <td>NaN</td>\n",
       "      <td>NaN</td>\n",
       "      <td>1.132391e+15</td>\n",
       "      <td>True</td>\n",
       "      <td>True</td>\n",
       "      <td>True</td>\n",
       "      <td>Carlo</td>\n",
       "      <td>cacfc4814e28f6a0</td>\n",
       "      <td>http://gerdov.com/mike-db/api/wingsDB/carlo-ph...</td>\n",
       "      <td>cajmrn@gmail.com</td>\n",
       "    </tr>\n",
       "    <tr>\n",
       "      <th>4</th>\n",
       "      <td>778406151949610</td>\n",
       "      <td>1713123634208848</td>\n",
       "      <td>Five Bridges Bar &amp; Grill</td>\n",
       "      <td>2022-07-08</td>\n",
       "      <td>resto pub and bar</td>\n",
       "      <td>16.0</td>\n",
       "      <td>28.0</td>\n",
       "      <td>3.632955</td>\n",
       "      <td>778406151949610</td>\n",
       "      <td>1132463937922427</td>\n",
       "      <td>...</td>\n",
       "      <td>NaN</td>\n",
       "      <td>NaN</td>\n",
       "      <td>1.132464e+15</td>\n",
       "      <td>NaN</td>\n",
       "      <td>NaN</td>\n",
       "      <td>NaN</td>\n",
       "      <td>Stephan</td>\n",
       "      <td>965f42f112d82297</td>\n",
       "      <td>http://gerdov.com/mike-db/api/wingsDB/stephan-...</td>\n",
       "      <td>stephan.reebs@umoncton.ca</td>\n",
       "    </tr>\n",
       "    <tr>\n",
       "      <th>5</th>\n",
       "      <td>778406151949610</td>\n",
       "      <td>1713123634208848</td>\n",
       "      <td>Five Bridges Bar &amp; Grill</td>\n",
       "      <td>2022-07-08</td>\n",
       "      <td>resto pub and bar</td>\n",
       "      <td>16.0</td>\n",
       "      <td>28.0</td>\n",
       "      <td>3.632955</td>\n",
       "      <td>778406151949610</td>\n",
       "      <td>1132391362856516</td>\n",
       "      <td>...</td>\n",
       "      <td>NaN</td>\n",
       "      <td>NaN</td>\n",
       "      <td>1.132391e+15</td>\n",
       "      <td>True</td>\n",
       "      <td>True</td>\n",
       "      <td>True</td>\n",
       "      <td>Carlo</td>\n",
       "      <td>cacfc4814e28f6a0</td>\n",
       "      <td>http://gerdov.com/mike-db/api/wingsDB/carlo-ph...</td>\n",
       "      <td>cajmrn@gmail.com</td>\n",
       "    </tr>\n",
       "  </tbody>\n",
       "</table>\n",
       "<p>5 rows × 37 columns</p>\n",
       "</div>"
      ],
      "text/plain": [
       "               id_x             place_id                     title       date  \\\n",
       "1  2879980822564788  2022027350403341249                Milestones 2022-08-05   \n",
       "2  2879980822564788  2022027350403341249                Milestones 2022-08-05   \n",
       "3  2879980822564788  2022027350403341249                Milestones 2022-08-05   \n",
       "4   778406151949610     1713123634208848  Five Bridges Bar & Grill 2022-07-08   \n",
       "5   778406151949610     1713123634208848  Five Bridges Bar & Grill 2022-07-08   \n",
       "\n",
       "                type  portion  price  event_rating          event_id  \\\n",
       "1        Bar & Grill      9.0    NaN      4.574495  2879980822564788   \n",
       "2        Bar & Grill      9.0    NaN      4.574495  2879980822564788   \n",
       "3        Bar & Grill      9.0    NaN      4.574495  2879980822564788   \n",
       "4  resto pub and bar     16.0   28.0      3.632955   778406151949610   \n",
       "5  resto pub and bar     16.0   28.0      3.632955   778406151949610   \n",
       "\n",
       "          author_id  ...  sides.drink.price  sides.side.price            id  \\\n",
       "1  1132445668569187  ...                NaN               NaN  1.132446e+15   \n",
       "2  1132463937922427  ...                NaN               NaN  1.132464e+15   \n",
       "3  1132391362856516  ...                NaN               NaN  1.132391e+15   \n",
       "4  1132463937922427  ...                NaN               NaN  1.132464e+15   \n",
       "5  1132391362856516  ...                NaN               NaN  1.132391e+15   \n",
       "\n",
       "   notifyMessages  notifyEvents  notifyReviews     name          password  \\\n",
       "1            True          True           True     Mike  1d91fd39fcf425b9   \n",
       "2             NaN           NaN            NaN  Stephan  965f42f112d82297   \n",
       "3            True          True           True    Carlo  cacfc4814e28f6a0   \n",
       "4             NaN           NaN            NaN  Stephan  965f42f112d82297   \n",
       "5            True          True           True    Carlo  cacfc4814e28f6a0   \n",
       "\n",
       "                                               photo  \\\n",
       "1  http://gerdov.com/mike-db/api/wingsDB/mike-pho...   \n",
       "2  http://gerdov.com/mike-db/api/wingsDB/stephan-...   \n",
       "3  http://gerdov.com/mike-db/api/wingsDB/carlo-ph...   \n",
       "4  http://gerdov.com/mike-db/api/wingsDB/stephan-...   \n",
       "5  http://gerdov.com/mike-db/api/wingsDB/carlo-ph...   \n",
       "\n",
       "                       email  \n",
       "1           gerdov@gmail.com  \n",
       "2  stephan.reebs@umoncton.ca  \n",
       "3           cajmrn@gmail.com  \n",
       "4  stephan.reebs@umoncton.ca  \n",
       "5           cajmrn@gmail.com  \n",
       "\n",
       "[5 rows x 37 columns]"
      ]
     },
     "execution_count": 96,
     "metadata": {},
     "output_type": "execute_result"
    }
   ],
   "source": [
    "mrg.head()"
   ]
  },
  {
   "cell_type": "markdown",
   "id": "0ab7b127-779c-4551-8aea-bc6c3248f88a",
   "metadata": {},
   "source": [
    "# Best Wings"
   ]
  },
  {
   "cell_type": "code",
   "execution_count": 11,
   "id": "1b20ee57-8a67-45ff-8e39-f4b70df97c08",
   "metadata": {},
   "outputs": [
    {
     "data": {
      "text/plain": [
       "Index(['id_x', 'place_id', 'title', 'date', 'type', 'portion', 'price',\n",
       "       'event_rating', 'event_id', 'author_id', 'review_rating',\n",
       "       'place.parking', 'place.ambiance', 'place.service', 'place.wait_time',\n",
       "       'place.cleanliness', 'wings.moistness', 'wings.sauce', 'wings.taste',\n",
       "       'wings.satiety', 'sides.appetizer.rating', 'sides.appetizer.name',\n",
       "       'sides.side.rating', 'sides.side.name', 'sides.drink.rating',\n",
       "       'sides.drink.name', 'sides.appetizer.price', 'sides.drink.price',\n",
       "       'sides.side.price'],\n",
       "      dtype='object')"
      ]
     },
     "execution_count": 11,
     "metadata": {},
     "output_type": "execute_result"
    }
   ],
   "source": [
    "mrg.columns"
   ]
  },
  {
   "cell_type": "code",
   "execution_count": 12,
   "id": "d17ee482-6073-4364-93b9-5f20135d6623",
   "metadata": {},
   "outputs": [],
   "source": [
    "wings = mrg[['id_x','title','date','author_id','review_rating','wings.moistness', 'wings.sauce', 'wings.taste','wings.satiety']].copy()"
   ]
  },
  {
   "cell_type": "code",
   "execution_count": 13,
   "id": "8eb188e2-ea07-4064-88c8-8e61c9e4bcbb",
   "metadata": {},
   "outputs": [],
   "source": [
    "wings['wing_score'] = wings[['wings.moistness', 'wings.sauce', 'wings.taste','wings.satiety']].mean(axis=1)"
   ]
  },
  {
   "cell_type": "code",
   "execution_count": 14,
   "id": "3bad6d79-ccf3-4b3f-82ad-09fa24f17add",
   "metadata": {},
   "outputs": [
    {
     "data": {
      "text/html": [
       "<div>\n",
       "<style scoped>\n",
       "    .dataframe tbody tr th:only-of-type {\n",
       "        vertical-align: middle;\n",
       "    }\n",
       "\n",
       "    .dataframe tbody tr th {\n",
       "        vertical-align: top;\n",
       "    }\n",
       "\n",
       "    .dataframe thead th {\n",
       "        text-align: right;\n",
       "    }\n",
       "</style>\n",
       "<table border=\"1\" class=\"dataframe\">\n",
       "  <thead>\n",
       "    <tr style=\"text-align: right;\">\n",
       "      <th></th>\n",
       "      <th>id_x</th>\n",
       "      <th>title</th>\n",
       "      <th>date</th>\n",
       "      <th>author_id</th>\n",
       "      <th>review_rating</th>\n",
       "      <th>wings.moistness</th>\n",
       "      <th>wings.sauce</th>\n",
       "      <th>wings.taste</th>\n",
       "      <th>wings.satiety</th>\n",
       "      <th>wing_score</th>\n",
       "    </tr>\n",
       "  </thead>\n",
       "  <tbody>\n",
       "    <tr>\n",
       "      <th>1</th>\n",
       "      <td>2879980822564788</td>\n",
       "      <td>Milestones</td>\n",
       "      <td>2022-08-05</td>\n",
       "      <td>1132445668569187</td>\n",
       "      <td>4.541667</td>\n",
       "      <td>5.0</td>\n",
       "      <td>5.0</td>\n",
       "      <td>5.0</td>\n",
       "      <td>4.5</td>\n",
       "      <td>4.875</td>\n",
       "    </tr>\n",
       "    <tr>\n",
       "      <th>2</th>\n",
       "      <td>2879980822564788</td>\n",
       "      <td>Milestones</td>\n",
       "      <td>2022-08-05</td>\n",
       "      <td>1132463937922427</td>\n",
       "      <td>4.454545</td>\n",
       "      <td>4.5</td>\n",
       "      <td>4.5</td>\n",
       "      <td>4.5</td>\n",
       "      <td>4.5</td>\n",
       "      <td>4.500</td>\n",
       "    </tr>\n",
       "    <tr>\n",
       "      <th>3</th>\n",
       "      <td>2879980822564788</td>\n",
       "      <td>Milestones</td>\n",
       "      <td>2022-08-05</td>\n",
       "      <td>1132391362856516</td>\n",
       "      <td>4.727273</td>\n",
       "      <td>5.0</td>\n",
       "      <td>5.0</td>\n",
       "      <td>5.0</td>\n",
       "      <td>5.0</td>\n",
       "      <td>5.000</td>\n",
       "    </tr>\n",
       "    <tr>\n",
       "      <th>4</th>\n",
       "      <td>778406151949610</td>\n",
       "      <td>Five Bridges Bar &amp; Grill</td>\n",
       "      <td>2022-07-08</td>\n",
       "      <td>1132463937922427</td>\n",
       "      <td>3.600000</td>\n",
       "      <td>4.0</td>\n",
       "      <td>4.0</td>\n",
       "      <td>4.5</td>\n",
       "      <td>4.0</td>\n",
       "      <td>4.125</td>\n",
       "    </tr>\n",
       "    <tr>\n",
       "      <th>5</th>\n",
       "      <td>778406151949610</td>\n",
       "      <td>Five Bridges Bar &amp; Grill</td>\n",
       "      <td>2022-07-08</td>\n",
       "      <td>1132391362856516</td>\n",
       "      <td>4.208333</td>\n",
       "      <td>5.0</td>\n",
       "      <td>5.0</td>\n",
       "      <td>5.0</td>\n",
       "      <td>5.0</td>\n",
       "      <td>5.000</td>\n",
       "    </tr>\n",
       "  </tbody>\n",
       "</table>\n",
       "</div>"
      ],
      "text/plain": [
       "               id_x                     title       date         author_id  \\\n",
       "1  2879980822564788                Milestones 2022-08-05  1132445668569187   \n",
       "2  2879980822564788                Milestones 2022-08-05  1132463937922427   \n",
       "3  2879980822564788                Milestones 2022-08-05  1132391362856516   \n",
       "4   778406151949610  Five Bridges Bar & Grill 2022-07-08  1132463937922427   \n",
       "5   778406151949610  Five Bridges Bar & Grill 2022-07-08  1132391362856516   \n",
       "\n",
       "   review_rating  wings.moistness  wings.sauce  wings.taste  wings.satiety  \\\n",
       "1       4.541667              5.0          5.0          5.0            4.5   \n",
       "2       4.454545              4.5          4.5          4.5            4.5   \n",
       "3       4.727273              5.0          5.0          5.0            5.0   \n",
       "4       3.600000              4.0          4.0          4.5            4.0   \n",
       "5       4.208333              5.0          5.0          5.0            5.0   \n",
       "\n",
       "   wing_score  \n",
       "1       4.875  \n",
       "2       4.500  \n",
       "3       5.000  \n",
       "4       4.125  \n",
       "5       5.000  "
      ]
     },
     "execution_count": 14,
     "metadata": {},
     "output_type": "execute_result"
    }
   ],
   "source": [
    "wings.head()"
   ]
  },
  {
   "cell_type": "code",
   "execution_count": 15,
   "id": "0331bba1-a8c4-4318-a695-21fb864f095e",
   "metadata": {},
   "outputs": [],
   "source": [
    "best_wings = wings.groupby('title')['wing_score'].mean()"
   ]
  },
  {
   "cell_type": "code",
   "execution_count": 16,
   "id": "114c15a3-f09c-418c-8d76-b522c9a9fbd0",
   "metadata": {},
   "outputs": [
    {
     "data": {
      "text/plain": [
       "title\n",
       "Irina's home made wings              4.916667\n",
       "Milestones                           4.791667\n",
       "St. Louis Bar & Grill Moncton        4.625000\n",
       "Kelseys                              4.562500\n",
       "The Old Triangle Irish Alehouse      4.500000\n",
       "Five Bridges Bar & Grill             4.437500\n",
       "Gahan House Hub City                 4.343750\n",
       "Big League Burgers & Wings           4.093750\n",
       "Red Satay Dieppe                     3.906250\n",
       "Classic Burger                       3.875000\n",
       "Baci Italia                          3.593750\n",
       "Pump House - Brewpub & Restaurant    3.375000\n",
       "Name: wing_score, dtype: float64"
      ]
     },
     "execution_count": 16,
     "metadata": {},
     "output_type": "execute_result"
    }
   ],
   "source": [
    "best_wings.sort_values(ascending=False)"
   ]
  },
  {
   "cell_type": "markdown",
   "id": "abe2c4b5-6299-4241-988a-6b28711c4ef2",
   "metadata": {},
   "source": [
    "# Best Place Overall"
   ]
  },
  {
   "cell_type": "code",
   "execution_count": 17,
   "id": "7c4c0e15-4bc3-4552-b346-ba057755a938",
   "metadata": {},
   "outputs": [],
   "source": [
    "place = mrg[['id_x','title','date','author_id','review_rating','place.parking', 'place.ambiance', 'place.service', 'place.wait_time','place.cleanliness']].copy()"
   ]
  },
  {
   "cell_type": "code",
   "execution_count": 18,
   "id": "8bfb7a35-9984-4c10-9230-86e0a6f1c71c",
   "metadata": {},
   "outputs": [],
   "source": [
    "place['place_score'] = place[['place.parking', 'place.ambiance', 'place.service', 'place.wait_time','place.cleanliness']].mean(axis=1)"
   ]
  },
  {
   "cell_type": "code",
   "execution_count": 19,
   "id": "1d2a754f-85cd-4d4e-91cf-9f0696c5e558",
   "metadata": {},
   "outputs": [
    {
     "data": {
      "text/plain": [
       "title\n",
       "Baci Italia                          4.800000\n",
       "Irina's home made wings              4.800000\n",
       "Milestones                           4.433333\n",
       "Kelseys                              4.350000\n",
       "Red Satay Dieppe                     4.225000\n",
       "Big League Burgers & Wings           4.200000\n",
       "Classic Burger                       4.125000\n",
       "St. Louis Bar & Grill Moncton        4.025000\n",
       "The Old Triangle Irish Alehouse      3.825000\n",
       "Five Bridges Bar & Grill             3.275000\n",
       "Pump House - Brewpub & Restaurant    3.275000\n",
       "Gahan House Hub City                 3.250000\n",
       "Name: place_score, dtype: float64"
      ]
     },
     "execution_count": 19,
     "metadata": {},
     "output_type": "execute_result"
    }
   ],
   "source": [
    "place.groupby('title')['place_score'].mean().sort_values(ascending=False)"
   ]
  },
  {
   "cell_type": "markdown",
   "id": "a46afe80-c3d5-45a7-aa4c-2f80d2842a91",
   "metadata": {},
   "source": [
    "# Best Ambiance"
   ]
  },
  {
   "cell_type": "code",
   "execution_count": 20,
   "id": "90a3b6da-fee9-4ef1-8298-9fdcce71a26d",
   "metadata": {},
   "outputs": [
    {
     "data": {
      "text/plain": [
       "title\n",
       "Irina's home made wings              5.000000\n",
       "Milestones                           4.333333\n",
       "The Old Triangle Irish Alehouse      4.250000\n",
       "Kelseys                              4.125000\n",
       "Baci Italia                          4.000000\n",
       "Classic Burger                       4.000000\n",
       "Red Satay Dieppe                     4.000000\n",
       "Big League Burgers & Wings           3.875000\n",
       "Gahan House Hub City                 3.500000\n",
       "St. Louis Bar & Grill Moncton        3.250000\n",
       "Pump House - Brewpub & Restaurant    3.125000\n",
       "Five Bridges Bar & Grill             2.375000\n",
       "Name: place.ambiance, dtype: float64"
      ]
     },
     "execution_count": 20,
     "metadata": {},
     "output_type": "execute_result"
    }
   ],
   "source": [
    "place.groupby('title')['place.ambiance'].mean().sort_values(ascending=False)"
   ]
  },
  {
   "cell_type": "markdown",
   "id": "ad5123cb-fb6c-4155-8548-c9e5bf383087",
   "metadata": {},
   "source": [
    "# Best Parking"
   ]
  },
  {
   "cell_type": "code",
   "execution_count": 21,
   "id": "158481f2-b32f-42bb-87fe-87fbc16b10f7",
   "metadata": {},
   "outputs": [
    {
     "data": {
      "text/plain": [
       "title\n",
       "Baci Italia                          5.000000\n",
       "Kelseys                              4.875000\n",
       "Milestones                           4.666667\n",
       "Classic Burger                       4.625000\n",
       "Big League Burgers & Wings           4.125000\n",
       "Irina's home made wings              4.000000\n",
       "Red Satay Dieppe                     4.000000\n",
       "St. Louis Bar & Grill Moncton        3.500000\n",
       "The Old Triangle Irish Alehouse      3.250000\n",
       "Five Bridges Bar & Grill             2.000000\n",
       "Pump House - Brewpub & Restaurant    1.875000\n",
       "Gahan House Hub City                 0.625000\n",
       "Name: place.parking, dtype: float64"
      ]
     },
     "execution_count": 21,
     "metadata": {},
     "output_type": "execute_result"
    }
   ],
   "source": [
    "place.groupby('title')['place.parking'].mean().sort_values(ascending=False)"
   ]
  },
  {
   "cell_type": "markdown",
   "id": "8f84c6f2-9af5-4df7-81cc-2ad93fdc19e8",
   "metadata": {},
   "source": [
    "# Best Service"
   ]
  },
  {
   "cell_type": "code",
   "execution_count": 22,
   "id": "de9ea22c-acee-4220-a03f-01a5c3209367",
   "metadata": {},
   "outputs": [
    {
     "data": {
      "text/plain": [
       "title\n",
       "Baci Italia                          5.000000\n",
       "Irina's home made wings              5.000000\n",
       "Big League Burgers & Wings           4.625000\n",
       "St. Louis Bar & Grill Moncton        4.625000\n",
       "Red Satay Dieppe                     4.375000\n",
       "Milestones                           4.333333\n",
       "Gahan House Hub City                 4.125000\n",
       "Kelseys                              4.000000\n",
       "Five Bridges Bar & Grill             3.875000\n",
       "Classic Burger                       3.750000\n",
       "Pump House - Brewpub & Restaurant    3.625000\n",
       "The Old Triangle Irish Alehouse      2.875000\n",
       "Name: place.service, dtype: float64"
      ]
     },
     "execution_count": 22,
     "metadata": {},
     "output_type": "execute_result"
    }
   ],
   "source": [
    "place.groupby('title')['place.service'].mean().sort_values(ascending=False)"
   ]
  },
  {
   "cell_type": "markdown",
   "id": "ab86a0d3-91d0-4cd9-9dcf-4b741c326c49",
   "metadata": {},
   "source": [
    "# Most Expensive / Most Spent"
   ]
  },
  {
   "cell_type": "code",
   "execution_count": 23,
   "id": "3efa2af8-9f3c-4c9f-99ed-10d0e226e56f",
   "metadata": {},
   "outputs": [],
   "source": [
    "prices = mrg[['id_x','title','date','author_id','price']].copy()"
   ]
  },
  {
   "cell_type": "code",
   "execution_count": 24,
   "id": "409e916d-7bef-4825-906f-9c1d01fd1558",
   "metadata": {},
   "outputs": [],
   "source": [
    "prices['price'].fillna(prices['price'].mean(),inplace=True)"
   ]
  },
  {
   "cell_type": "code",
   "execution_count": 25,
   "id": "59fdaa14-b769-406b-8bac-32c8120f2968",
   "metadata": {},
   "outputs": [
    {
     "data": {
      "text/plain": [
       "title\n",
       "Big League Burgers & Wings           50.000000\n",
       "Red Satay Dieppe                     37.500000\n",
       "Five Bridges Bar & Grill             28.000000\n",
       "Kelseys                              27.470000\n",
       "Milestones                           22.776744\n",
       "St. Louis Bar & Grill Moncton        18.390000\n",
       "Classic Burger                       18.000000\n",
       "Gahan House Hub City                 17.000000\n",
       "The Old Triangle Irish Alehouse      17.000000\n",
       "Pump House - Brewpub & Restaurant    16.500000\n",
       "Baci Italia                          14.990000\n",
       "Irina's home made wings               0.000000\n",
       "Name: price, dtype: float64"
      ]
     },
     "execution_count": 25,
     "metadata": {},
     "output_type": "execute_result"
    }
   ],
   "source": [
    "prices.groupby('title')['price'].mean().sort_values(ascending=False)"
   ]
  },
  {
   "cell_type": "markdown",
   "id": "51796dfd-6f9a-41aa-ad82-fa3c30d74985",
   "metadata": {},
   "source": [
    "# Reviewers\n",
    "## Most leanient"
   ]
  },
  {
   "cell_type": "code",
   "execution_count": 97,
   "id": "c237a1ff-7daa-4096-af59-a7f08affd235",
   "metadata": {},
   "outputs": [],
   "source": [
    "reviewers = mrg[['id_x','title','date','author_id','review_rating','event_rating','name']].copy()"
   ]
  },
  {
   "cell_type": "markdown",
   "id": "e1513b34-fa50-4b55-99a9-dd7da54cfaad",
   "metadata": {},
   "source": [
    "Carlo on average gave the higest scores. "
   ]
  },
  {
   "cell_type": "code",
   "execution_count": 100,
   "id": "7c09b74e-5b66-4614-8ed7-6ecf8e74727d",
   "metadata": {},
   "outputs": [
    {
     "data": {
      "text/plain": [
       "name\n",
       "Carlo      4.305745\n",
       "Ian        3.922273\n",
       "Mike       4.050568\n",
       "Stephan    3.955408\n",
       "Name: review_rating, dtype: float64"
      ]
     },
     "execution_count": 100,
     "metadata": {},
     "output_type": "execute_result"
    }
   ],
   "source": [
    "reviewers.groupby('name')['review_rating'].mean()"
   ]
  },
  {
   "cell_type": "markdown",
   "id": "588b0f6d-c0e9-44d7-b56d-db8abe3a731f",
   "metadata": {},
   "source": [
    "# Top 3 Restaurants by taster"
   ]
  },
  {
   "cell_type": "code",
   "execution_count": 107,
   "id": "35622c84-0a4c-4e9c-9c5b-e38f413389e6",
   "metadata": {},
   "outputs": [
    {
     "data": {
      "text/plain": [
       "name     title                        \n",
       "Carlo    Irina's home made wings          5.000000\n",
       "         Milestones                       4.727273\n",
       "         St. Louis Bar & Grill Moncton    4.666667\n",
       "Ian      Big League Burgers & Wings       4.333333\n",
       "         Kelseys                          4.291667\n",
       "         Baci Italia                      4.200000\n",
       "Mike     Irina's home made wings          5.000000\n",
       "         Milestones                       4.541667\n",
       "         Kelseys                          4.208333\n",
       "Stephan  Kelseys                          4.555556\n",
       "         Irina's home made wings          4.500000\n",
       "         Milestones                       4.454545\n",
       "Name: review_rating, dtype: float64"
      ]
     },
     "execution_count": 107,
     "metadata": {},
     "output_type": "execute_result"
    }
   ],
   "source": [
    "reviewers.groupby(['title','name'])['review_rating'].mean().groupby('name').nlargest(3).reset_index(-1,drop=True)"
   ]
  },
  {
   "cell_type": "markdown",
   "id": "2e8a88a5-b318-4ff8-b7c2-d4f615775d29",
   "metadata": {},
   "source": [
    "# Trends"
   ]
  },
  {
   "cell_type": "markdown",
   "id": "7f3eeca5-e680-44e2-b0d9-c82b24e1c887",
   "metadata": {},
   "source": [
    "## review trend"
   ]
  },
  {
   "cell_type": "code",
   "execution_count": 34,
   "id": "2a2265e8-5d0c-4265-85bc-45ec8f60fc7d",
   "metadata": {},
   "outputs": [
    {
     "data": {
      "text/plain": [
       "<AxesSubplot:xlabel='review_rating', ylabel='Count'>"
      ]
     },
     "execution_count": 34,
     "metadata": {},
     "output_type": "execute_result"
    },
    {
     "data": {
      "image/png": "[encoded data removed]",
      "text/plain": [
       "<Figure size 1080x360 with 1 Axes>"
      ]
     },
     "metadata": {
      "needs_background": "light"
     },
     "output_type": "display_data"
    }
   ],
   "source": [
    "plt.figure(figsize=(15,5))\n",
    "sns.histplot(reviewers,x='review_rating',bins=10)"
   ]
  },
  {
   "cell_type": "code",
   "execution_count": 35,
   "id": "00a906b7-4304-4130-a8fb-f3141be60de4",
   "metadata": {},
   "outputs": [
    {
     "data": {
      "text/html": [
       "<div>\n",
       "<style scoped>\n",
       "    .dataframe tbody tr th:only-of-type {\n",
       "        vertical-align: middle;\n",
       "    }\n",
       "\n",
       "    .dataframe tbody tr th {\n",
       "        vertical-align: top;\n",
       "    }\n",
       "\n",
       "    .dataframe thead th {\n",
       "        text-align: right;\n",
       "    }\n",
       "</style>\n",
       "<table border=\"1\" class=\"dataframe\">\n",
       "  <thead>\n",
       "    <tr style=\"text-align: right;\">\n",
       "      <th></th>\n",
       "      <th>title</th>\n",
       "      <th>date</th>\n",
       "      <th>event_rating</th>\n",
       "    </tr>\n",
       "  </thead>\n",
       "  <tbody>\n",
       "    <tr>\n",
       "      <th>1</th>\n",
       "      <td>Milestones</td>\n",
       "      <td>2022-08-05</td>\n",
       "      <td>4.574495</td>\n",
       "    </tr>\n",
       "    <tr>\n",
       "      <th>4</th>\n",
       "      <td>Five Bridges Bar &amp; Grill</td>\n",
       "      <td>2022-07-08</td>\n",
       "      <td>3.632955</td>\n",
       "    </tr>\n",
       "    <tr>\n",
       "      <th>8</th>\n",
       "      <td>Big League Burgers &amp; Wings</td>\n",
       "      <td>2022-06-10</td>\n",
       "      <td>4.104167</td>\n",
       "    </tr>\n",
       "    <tr>\n",
       "      <th>12</th>\n",
       "      <td>Classic Burger</td>\n",
       "      <td>2022-05-02</td>\n",
       "      <td>3.923611</td>\n",
       "    </tr>\n",
       "    <tr>\n",
       "      <th>16</th>\n",
       "      <td>The Old Triangle Irish Alehouse</td>\n",
       "      <td>2022-04-08</td>\n",
       "      <td>4.116477</td>\n",
       "    </tr>\n",
       "    <tr>\n",
       "      <th>20</th>\n",
       "      <td>Pump House - Brewpub &amp; Restaurant</td>\n",
       "      <td>2022-03-08</td>\n",
       "      <td>3.392677</td>\n",
       "    </tr>\n",
       "    <tr>\n",
       "      <th>24</th>\n",
       "      <td>Red Satay Dieppe</td>\n",
       "      <td>2021-12-10</td>\n",
       "      <td>4.120896</td>\n",
       "    </tr>\n",
       "    <tr>\n",
       "      <th>28</th>\n",
       "      <td>Kelseys</td>\n",
       "      <td>2021-11-05</td>\n",
       "      <td>4.368056</td>\n",
       "    </tr>\n",
       "    <tr>\n",
       "      <th>32</th>\n",
       "      <td>Irina's home made wings</td>\n",
       "      <td>2021-09-25</td>\n",
       "      <td>4.833333</td>\n",
       "    </tr>\n",
       "    <tr>\n",
       "      <th>35</th>\n",
       "      <td>St. Louis Bar &amp; Grill Moncton</td>\n",
       "      <td>2021-10-07</td>\n",
       "      <td>4.242424</td>\n",
       "    </tr>\n",
       "    <tr>\n",
       "      <th>39</th>\n",
       "      <td>Baci Italia</td>\n",
       "      <td>2021-09-09</td>\n",
       "      <td>4.089773</td>\n",
       "    </tr>\n",
       "    <tr>\n",
       "      <th>43</th>\n",
       "      <td>Gahan House Hub City</td>\n",
       "      <td>2021-08-19</td>\n",
       "      <td>3.693939</td>\n",
       "    </tr>\n",
       "  </tbody>\n",
       "</table>\n",
       "</div>"
      ],
      "text/plain": [
       "                                title       date  event_rating\n",
       "1                          Milestones 2022-08-05      4.574495\n",
       "4            Five Bridges Bar & Grill 2022-07-08      3.632955\n",
       "8          Big League Burgers & Wings 2022-06-10      4.104167\n",
       "12                     Classic Burger 2022-05-02      3.923611\n",
       "16    The Old Triangle Irish Alehouse 2022-04-08      4.116477\n",
       "20  Pump House - Brewpub & Restaurant 2022-03-08      3.392677\n",
       "24                   Red Satay Dieppe 2021-12-10      4.120896\n",
       "28                            Kelseys 2021-11-05      4.368056\n",
       "32            Irina's home made wings 2021-09-25      4.833333\n",
       "35      St. Louis Bar & Grill Moncton 2021-10-07      4.242424\n",
       "39                        Baci Italia 2021-09-09      4.089773\n",
       "43               Gahan House Hub City 2021-08-19      3.693939"
      ]
     },
     "execution_count": 35,
     "metadata": {},
     "output_type": "execute_result"
    }
   ],
   "source": [
    "events = mrg[['title', 'date', 'event_rating']].drop_duplicates()\n",
    "events"
   ]
  },
  {
   "cell_type": "code",
   "execution_count": 36,
   "id": "71669b49-abb6-4210-b9e2-b79e52a17119",
   "metadata": {},
   "outputs": [],
   "source": [
    "from numpy import polyfit \n",
    "def fit(X, y, degree=3): \n",
    "\tcoef = polyfit(X, y, degree) \n",
    "\ttrendpoly = np.poly1d(coef) \n",
    "\treturn trendpoly(X) "
   ]
  },
  {
   "cell_type": "code",
   "execution_count": 37,
   "id": "e1007aad-e9ea-42d4-9ca5-bae068389c8d",
   "metadata": {},
   "outputs": [],
   "source": [
    "def get_trend(s, degree=3): \n",
    "\tX = list(range(len(s))) \n",
    "\ttrend = fit(X, s.values, degree) \n",
    "\treturn pd.Series(data=trend, index=s.index)"
   ]
  },
  {
   "cell_type": "code",
   "execution_count": 38,
   "id": "9f228660-d352-44a7-8225-7dc04861eacd",
   "metadata": {},
   "outputs": [],
   "source": [
    "events['trend'] =get_trend(events['event_rating'],4) "
   ]
  },
  {
   "cell_type": "code",
   "execution_count": 52,
   "id": "1363dbb6-5a83-4966-a7fd-8bc7d6e667a4",
   "metadata": {},
   "outputs": [
    {
     "data": {
      "image/png": "[encoded data removed]",
      "text/plain": [
       "<Figure size 1800x360 with 1 Axes>"
      ]
     },
     "metadata": {
      "needs_background": "light"
     },
     "output_type": "display_data"
    }
   ],
   "source": [
    "plt.figure(figsize=(25,5))\n",
    "ax = sns.lineplot(data=events.sort_values('date'),x='date',y='event_rating',legend='brief',label='event_rating')\n",
    "ax1 = sns.lineplot(data=events.sort_values('date'),x='date',y='trend',legend='brief',label='trend_line-ployfit(1d)')"
   ]
  },
  {
   "cell_type": "markdown",
   "id": "d2ffa714-168f-4baa-bbdc-cd39a59c1963",
   "metadata": {},
   "source": [
    "## reviewer score trend"
   ]
  },
  {
   "cell_type": "code",
   "execution_count": 56,
   "id": "a419c199-a86c-479c-958c-a07348a3e9e2",
   "metadata": {},
   "outputs": [
    {
     "data": {
      "text/plain": [
       "<AxesSubplot:xlabel='date', ylabel='review_rating'>"
      ]
     },
     "execution_count": 56,
     "metadata": {},
     "output_type": "execute_result"
    },
    {
     "data": {
      "image/png": "[encoded data removed]",
      "text/plain": [
       "<Figure size 1800x360 with 1 Axes>"
      ]
     },
     "metadata": {
      "needs_background": "light"
     },
     "output_type": "display_data"
    }
   ],
   "source": [
    "plt.figure(figsize=(25,5))\n",
    "sns.lineplot(data=reviewers.sort_values('date'),x='date',y='review_rating',hue='author_id')"
   ]
  },
  {
   "cell_type": "markdown",
   "id": "1e70982c-a6b8-4228-9938-6d92de9d0f2e",
   "metadata": {},
   "source": [
    "Looking at the overall spread over the course of our meetings."
   ]
  },
  {
   "cell_type": "code",
   "execution_count": 85,
   "id": "2ff0ae73-207f-4744-82a2-69d538af35d8",
   "metadata": {},
   "outputs": [
    {
     "data": {
      "text/plain": [
       "<AxesSubplot:xlabel='title', ylabel='review_rating'>"
      ]
     },
     "execution_count": 85,
     "metadata": {},
     "output_type": "execute_result"
    },
    {
     "data": {
      "image/png": "[encoded data removed]",
      "text/plain": [
       "<Figure size 2520x720 with 1 Axes>"
      ]
     },
     "metadata": {},
     "output_type": "display_data"
    }
   ],
   "source": [
    "fig,ax = plt.subplots(figsize=(35,10))\n",
    "sns.set_theme(style=\"whitegrid\")\n",
    "sns.boxplot(data=reviewers.sort_values('date'),x='title',y='review_rating', ax=ax)"
   ]
  }
 ],
 "metadata": {
  "kernelspec": {
   "display_name": "Python 3 (ipykernel)",
   "language": "python",
   "name": "python3"
  },
  "language_info": {
   "codemirror_mode": {
    "name": "ipython",
    "version": 3
   },
   "file_extension": ".py",
   "mimetype": "text/x-python",
   "name": "python",
   "nbconvert_exporter": "python",
   "pygments_lexer": "ipython3",
   "version": "3.8.13"
  }
 },
 "nbformat": 4,
 "nbformat_minor": 5
}
